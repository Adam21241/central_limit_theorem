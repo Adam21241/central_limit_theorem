{
 "cells": [
  {
   "cell_type": "code",
   "execution_count": 5,
   "metadata": {},
   "outputs": [],
   "source": [
    "# Select random numbers (n = num) from theoretical Poisson distribution (lambda = l)\n",
    "# and create from them experimental Poisson distribution (dist).\n",
    "\n",
    "import numpy as np\n",
    "\n",
    "np.random.seed(0)\n",
    "l = 5\n",
    "num = 1000000\n",
    "dist = np.random.poisson(l, num)"
   ]
  },
  {
   "cell_type": "code",
   "execution_count": 6,
   "metadata": {},
   "outputs": [
    {
     "data": {
      "image/png": "[encoded data removed]",
      "text/plain": [
       "<Figure size 432x288 with 1 Axes>"
      ]
     },
     "metadata": {
      "needs_background": "light"
     },
     "output_type": "display_data"
    }
   ],
   "source": [
    "# histogram of experimental Poisson distribution (dist)\n",
    "\n",
    "import matplotlib.pyplot as plt\n",
    "plt.hist(dist, 14, density = True)\n",
    "plt.show()"
   ]
  },
  {
   "cell_type": "code",
   "execution_count": 7,
   "metadata": {},
   "outputs": [
    {
     "name": "stdout",
     "output_type": "stream",
     "text": [
      "Mean of theoretical Poisson distribution (lambda) = 5\n",
      "Standard deviation of theoretical Poisson distribution (sqrt(lambda)) = 2.2361\n",
      "Mean of experimental Poisson distribution = 5.0001\n",
      "Standard deviation of experimental Poisson distribution = 2.2357\n"
     ]
    }
   ],
   "source": [
    "# Comparison of parameters of theoretical and experimental Poisson distribution (mean and standard deviation).\n",
    "\n",
    "import math\n",
    "\n",
    "print(\"Mean of theoretical Poisson distribution (lambda) =\", round(l, 4))\n",
    "print(\"Standard deviation of theoretical Poisson distribution (sqrt(lambda)) =\", round(math.sqrt(l), 4))\n",
    "\n",
    "print(\"Mean of experimental Poisson distribution =\", round(np.mean(dist), 4))\n",
    "print(\"Standard deviation of experimental Poisson distribution =\", round(np.std(dist), 4))"
   ]
  },
  {
   "cell_type": "code",
   "execution_count": 8,
   "metadata": {},
   "outputs": [
    {
     "name": "stdout",
     "output_type": "stream",
     "text": [
      "5.8\n",
      "2.3151673805580453\n"
     ]
    }
   ],
   "source": [
    "# Select random sample from experimental Poisson distribution (dist).\n",
    "\n",
    "sample = np.random.choice(dist, 10)\n",
    "print(np.mean(sample))\n",
    "print(np.std(sample))"
   ]
  },
  {
   "cell_type": "code",
   "execution_count": 9,
   "metadata": {},
   "outputs": [
    {
     "data": {
      "image/png": "[encoded data removed]",
      "text/plain": [
       "<Figure size 432x288 with 1 Axes>"
      ]
     },
     "metadata": {
      "needs_background": "light"
     },
     "output_type": "display_data"
    }
   ],
   "source": [
    "# Draw histogram of the above sample.\n",
    "\n",
    "plt.hist(sample, 14, density = True)\n",
    "plt.show()"
   ]
  },
  {
   "cell_type": "code",
   "execution_count": 10,
   "metadata": {},
   "outputs": [],
   "source": [
    "# Select n samples (n = number_of_samples, size of every sample = number_of_elements) \n",
    "# from experimental Poisson distribuion (dist)\n",
    "# and create sampling distribution of sample means (sample_means).\n",
    "# If size of every sample (number_of_elements) > 30, then there is no difference what distribution we select.  \n",
    "\n",
    "number_of_samples = 5000\n",
    "number_of_elements = 1000   \n",
    "\n",
    "sample_means = []\n",
    "\n",
    "for i in range(number_of_samples):\n",
    "    sample_means.append(np.mean(np.random.choice(dist, number_of_elements)))"
   ]
  },
  {
   "cell_type": "code",
   "execution_count": 11,
   "metadata": {},
   "outputs": [
    {
     "name": "stdout",
     "output_type": "stream",
     "text": [
      "Mean of sampling distribution of sample means = 4.9996\n",
      "Standard deviation of sampling distribution of sample means = 0.0722\n",
      "Theoretical standard deviation of sampling distribution of sample means = 0.0707\n"
     ]
    }
   ],
   "source": [
    "# Statistics of the above sampling distribution of sample means (sample_means).\n",
    "# In theory: stdev(sample_means) = stdev(dist) / sqrt(number_of_elements)\n",
    "\n",
    "import statistics\n",
    "\n",
    "print(\"Mean of sampling distribution of sample means =\", \n",
    "      round(np.mean(sample_means), 4))\n",
    "print(\"Standard deviation of sampling distribution of sample means =\", \n",
    "      round(np.std(sample_means), 4))\n",
    "print(\"Theoretical standard deviation of sampling distribution of sample means =\", \n",
    "      round(np.std(dist) / math.sqrt(number_of_elements), 4))"
   ]
  },
  {
   "cell_type": "code",
   "execution_count": 12,
   "metadata": {},
   "outputs": [
    {
     "data": {
      "image/png": "[encoded data removed]",
      "text/plain": [
       "<Figure size 432x288 with 1 Axes>"
      ]
     },
     "metadata": {
      "needs_background": "light"
     },
     "output_type": "display_data"
    }
   ],
   "source": [
    "# Histogram of the above sampling distribution of sample means (sample_means).\n",
    "\n",
    "plt.hist(sample_means, 14, density = True)\n",
    "plt.show()"
   ]
  },
  {
   "cell_type": "code",
   "execution_count": 13,
   "metadata": {},
   "outputs": [
    {
     "data": {
      "text/plain": [
       "(0.9997238516807556, 0.7766396999359131)"
      ]
     },
     "execution_count": 13,
     "metadata": {},
     "output_type": "execute_result"
    }
   ],
   "source": [
    "# According to Central Limit Theorem, above sampling of sample means (sample_means) \n",
    "# should be approximately normal distribution.\n",
    "\n",
    "from scipy import stats\n",
    "\n",
    "stats.shapiro(sample_means)"
   ]
  },
  {
   "cell_type": "code",
   "execution_count": 14,
   "metadata": {},
   "outputs": [],
   "source": [
    "# H0 for Shapiro-Wilk test is that the data was drawn from a normal distribution.\n",
    "# p-value = 0.7766396999359131 (> .05) means, that we fail to reject H0. \n",
    "# So we can suppose, that the above distribution is normal."
   ]
  }
 ],
 "metadata": {
  "kernelspec": {
   "display_name": "Python 3",
   "language": "python",
   "name": "python3"
  },
  "language_info": {
   "codemirror_mode": {
    "name": "ipython",
    "version": 3
   },
   "file_extension": ".py",
   "mimetype": "text/x-python",
   "name": "python",
   "nbconvert_exporter": "python",
   "pygments_lexer": "ipython3",
   "version": "3.5.2"
  }
 },
 "nbformat": 4,
 "nbformat_minor": 2
}
